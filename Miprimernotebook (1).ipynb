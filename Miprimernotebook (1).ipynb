{
  "nbformat": 4,
  "nbformat_minor": 0,
  "metadata": {
    "colab": {
      "name": "Miprimernotebook.ipynb",
      "provenance": []
    },
    "kernelspec": {
      "name": "python3",
      "display_name": "Python 3"
    },
    "language_info": {
      "name": "python"
    }
  },
  "cells": [
    {
      "cell_type": "markdown",
      "source": [
        "## ***Mi primer notebook Colaboratory***"
      ],
      "metadata": {
        "id": "FeLIbSyMu-8Y"
      }
    },
    {
      "cell_type": "code",
      "source": [
        ""
      ],
      "metadata": {
        "id": "7EufWg6kvKBA"
      },
      "execution_count": null,
      "outputs": []
    },
    {
      "cell_type": "markdown",
      "source": [
        "# Punto 1 subir un archivo Excel."
      ],
      "metadata": {
        "id": "POc8uYYRy8dp"
      }
    },
    {
      "cell_type": "code",
      "execution_count": 2,
      "metadata": {
        "id": "HYGMoPrDtxZ_"
      },
      "outputs": [],
      "source": [
        "ubicación_archivo = \"/content/drive/MyDrive/COMPUTACION ESTADISTICA/Clase1_CE.xlsx\""
      ]
    },
    {
      "cell_type": "markdown",
      "source": [
        "# Punto 2 Colocar una Imagen desde internet"
      ],
      "metadata": {
        "id": "HkFT5JnkzLEP"
      }
    },
    {
      "cell_type": "markdown",
      "source": [
        "![perritos](https://wrmx00.epimg.net/radio/imagenes/2021/06/29/sociedad/1624921713_710892_1624922564_noticia_normal.jpg)\n",
        "\n",
        "[link de la imagen] (https://wrmx00.epimg.net/radio/imagenes/2021/06/29/sociedad/1624921713_710892_1624922564_noticia_normal.jpg)\n"
      ],
      "metadata": {
        "id": "4f-ppnyM0Muk"
      }
    },
    {
      "cell_type": "markdown",
      "source": [
        "# Punto 3 Construir una matriz 4x4\n",
        "(se utilizo latex)\n",
        "(link latex: https://latex.codecogs.com/eqneditor/editor.php)"
      ],
      "metadata": {
        "id": "NOzZI41e17TA"
      }
    },
    {
      "cell_type": "markdown",
      "source": [
        "\\begin{vmatrix}\n",
        " 1&  2&  3&4 \\\\ \n",
        " 2&  3&  4&5 \\\\ \n",
        " 3&  4&  5& 6\\\\ \n",
        " 4&  5&  6& 7\n",
        "\\end{vmatrix}"
      ],
      "metadata": {
        "id": "1zGbnou71486"
      }
    },
    {
      "cell_type": "markdown",
      "source": [
        "# Punto 4 ¿como crear una tabla?"
      ],
      "metadata": {
        "id": "3su9i4zg2S0k"
      }
    }
  ]
}