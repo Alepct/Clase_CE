{
  "nbformat": 4,
  "nbformat_minor": 0,
  "metadata": {
    "colab": {
      "name": "Miprimernotebook.ipynb",
      "provenance": []
    },
    "kernelspec": {
      "name": "python3",
      "display_name": "Python 3"
    },
    "language_info": {
      "name": "python"
    }
  },
  "cells": [
    {
      "cell_type": "markdown",
      "source": [
        "## ***Mi primer notebook Colaboratory***"
      ],
      "metadata": {
        "id": "FeLIbSyMu-8Y"
      }
    },
    {
      "cell_type": "code",
      "source": [
        ""
      ],
      "metadata": {
        "id": "7EufWg6kvKBA"
      },
      "execution_count": null,
      "outputs": []
    },
    {
      "cell_type": "markdown",
      "source": [
        "# Punto 1 subir un archivo Excel."
      ],
      "metadata": {
        "id": "POc8uYYRy8dp"
      }
    },
    {
      "cell_type": "code",
      "execution_count": null,
      "metadata": {
        "id": "HYGMoPrDtxZ_"
      },
      "outputs": [],
      "source": [
        "ubicación_archivo = \"/content/drive/MyDrive/COMPUTACION ESTADISTICA/Clase1_CE.xlsx\""
      ]
    },
    {
      "cell_type": "markdown",
      "source": [
        "# Punto 2 Colocar una Imagen desde internet"
      ],
      "metadata": {
        "id": "HkFT5JnkzLEP"
      }
    },
    {
      "cell_type": "markdown",
      "source": [
        "![perritos](https://wrmx00.epimg.net/radio/imagenes/2021/06/29/sociedad/1624921713_710892_1624922564_noticia_normal.jpg)\n",
        "\n",
        "[link de la imagen] (https://wrmx00.epimg.net/radio/imagenes/2021/06/29/sociedad/1624921713_710892_1624922564_noticia_normal.jpg)\n"
      ],
      "metadata": {
        "id": "4f-ppnyM0Muk"
      }
    },
    {
      "cell_type": "markdown",
      "source": [
        "# Punto 3 Construir una matriz 4x4\n",
        "(se utilizo latex)\n",
        "(link latex: https://latex.codecogs.com/eqneditor/editor.php)"
      ],
      "metadata": {
        "id": "NOzZI41e17TA"
      }
    },
    {
      "cell_type": "markdown",
      "source": [
        "\\begin{vmatrix}\n",
        " 1&  2&  3&4 \\\\ \n",
        " 2&  3&  4&5 \\\\ \n",
        " 3&  4&  5& 6\\\\ \n",
        " 4&  5&  6& 7\n",
        "\\end{vmatrix}"
      ],
      "metadata": {
        "id": "1zGbnou71486"
      }
    },
    {
      "cell_type": "markdown",
      "source": [
        "# Punto 4 ¿como crear una tabla?"
      ],
      "metadata": {
        "id": "3su9i4zg2S0k"
      }
    },
    {
      "cell_type": "code",
      "source": [
        "from tabulate import tabulate\n"
      ],
      "metadata": {
        "id": "bjR5xwSk-NAX"
      },
      "execution_count": null,
      "outputs": []
    },
    {
      "cell_type": "code",
      "source": [
        "datos= [[\"nombre1\",\"propietario\",\"peso\", \"edad\"],\n",
        "[\"nombre2\",\"propietario\",\"peso\", \"edad\"],\n",
        "[\"nombre3\",\"propietario\",\"peso\", \"edad\"],\n",
        "[\"nombre4\",\"propietario\",\"peso\", \"edad\"],\n",
        "[\"nombre5\",\"propietario\",\"peso\", \"edad\"]]\n",
        "print(tabulate(datos))"
      ],
      "metadata": {
        "colab": {
          "base_uri": "https://localhost:8080/"
        },
        "id": "wea2T9-d-lsK",
        "outputId": "f9459904-a145-409d-a929-d7e46c1f0bce"
      },
      "execution_count": null,
      "outputs": [
        {
          "output_type": "stream",
          "name": "stdout",
          "text": [
            "-------  -----------  ----  ----\n",
            "nombre1  propietario  peso  edad\n",
            "nombre2  propietario  peso  edad\n",
            "nombre3  propietario  peso  edad\n",
            "nombre4  propietario  peso  edad\n",
            "nombre5  propietario  peso  edad\n",
            "-------  -----------  ----  ----\n"
          ]
        }
      ]
    },
    {
      "cell_type": "markdown",
      "source": [
        "# Punto 5 Copiar una ecuación estadistica\n",
        "Ecuación de la varianza (se utilizo Latex)"
      ],
      "metadata": {
        "id": "-nZQj0zm_zcp"
      }
    },
    {
      "cell_type": "markdown",
      "source": [
        "$$\\sigma ^{2}=\\frac{\\sum_{i}^{n}=1\\left ( x_{i} -\\upsilon \\right )^2{}}{N}$$"
      ],
      "metadata": {
        "id": "TQ4sCwrT1ifb"
      }
    }
  ]
}